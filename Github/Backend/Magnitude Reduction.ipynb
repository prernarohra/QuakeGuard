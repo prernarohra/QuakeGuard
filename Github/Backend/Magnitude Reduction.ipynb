{
 "cells": [
  {
   "cell_type": "code",
   "execution_count": 1,
   "id": "9b550def",
   "metadata": {},
   "outputs": [
    {
     "name": "stdout",
     "output_type": "stream",
     "text": [
      "\u001b[1mWater Injection or Human induced seismisty\u001b[0m\n",
      "The interaction between water injection and earthquake magnitude has garnered scientific interest. The Richter scale provides insight into this relationship, indicating that while the impact of water injection is negligible at higher magnitudes, subtle changes in pressure could theoretically affect earthquakes in the 5.0 to 6.0 range.\n",
      "\n",
      "Moreover, human activities altering underground water levels can redistribute stress in the Earth's crust, potentially influencing the buildup of strain along fault lines and altering seismic risk. Understanding this interplay is vital for managing seismic hazards effectively.\n",
      "\n",
      "Human activity can also be beneficial for us as it generates smaller earthquakes of maximum 4 to 5 magnitude which are not that much harmful for us but it prevents the higher build up of stress in the crust preventing larger earthquakes causing destruction to our environment.\n",
      "              \n",
      "Enter magnitude: 6.7\n",
      "Reduced Magnitude: 6.6000000000000005\n",
      "\u001b[1mReduced Magnitude description\u001b[0m\n",
      "In this range, a very slight pressure reduction might lead to a fractional decrease on the Richter scale.\n"
     ]
    }
   ],
   "source": [
    "print(\"\\033[1mWater Injection or Human induced seismisty\\033[0m\")\n",
    "\n",
    "print('''The interaction between water injection and earthquake magnitude has garnered scientific interest. The Richter scale provides insight into this relationship, indicating that while the impact of water injection is negligible at higher magnitudes, subtle changes in pressure could theoretically affect earthquakes in the 5.0 to 6.0 range.\n",
    "\n",
    "Moreover, human activities altering underground water levels can redistribute stress in the Earth's crust, potentially influencing the buildup of strain along fault lines and altering seismic risk. Understanding this interplay is vital for managing seismic hazards effectively.\n",
    "\n",
    "Human activity can also be beneficial for us as it generates smaller earthquakes of maximum 4 to 5 magnitude which are not that much harmful for us but it prevents the higher build up of stress in the crust preventing larger earthquakes causing destruction to our environment.''')\n",
    "\n",
    "print(\"              \")\n",
    "\n",
    "Magnitude = float(input(\"Enter magnitude: \"))\n",
    "\n",
    "if Magnitude >= 7:\n",
    "    magnitude = Magnitude\n",
    "elif 6.5 <= Magnitude < 7:\n",
    "    magnitude = Magnitude - 0.1\n",
    "elif 6 <= Magnitude < 6.5:\n",
    "    magnitude = Magnitude - 0.2\n",
    "elif 5.5 <= Magnitude < 6:\n",
    "    magnitude = Magnitude - 0.3\n",
    "elif 5 <= Magnitude < 5.5:\n",
    "    magnitude = Magnitude - 0.4\n",
    "elif 4.5 <= Magnitude < 5:\n",
    "    magnitude = Magnitude - 0.5\n",
    "elif 4 <= Magnitude < 4.5:\n",
    "    magnitude = Magnitude - 0.6   \n",
    "else:\n",
    "    magnitude = Magnitude - 0.7\n",
    "    \n",
    "print(\"Reduced Magnitude:\", magnitude)\n",
    "\n",
    "\n",
    "print(\"\\033[1mReduced Magnitude description\\033[0m\")    \n",
    "if magnitude >= 7:\n",
    "    print(\"Due to the immense energy release at these high magnitudes, the pressure reduction from water injection is unlikely to have any measurable impact. That's why the effect of water injection would likely be negligible at these magnitudes.\")\n",
    "elif 6.5 <= magnitude < 7:\n",
    "    print(\"In this range, a very slight pressure reduction might lead to a fractional decrease on the Richter scale.\")\n",
    "elif 6 <= magnitude < 6.5:\n",
    "    print(\"In this range, a very slight pressure reduction a little more than magnitudes of 6.5 to 7 might lead to a fractional decrease on the Richter scale, potentially 0.2 change in magnitude.\")\n",
    "elif 5.5 <= magnitude < 6:\n",
    "    print(\"Here, the pressure change from water injection could lead to a possible decrease of 0.2 to 0.3 on the Richter scale.\")\n",
    "elif 5 <= magnitude < 5.5:\n",
    "    print(\"Here, the pressure from water injection can change the underground water levels which could lead to a possible decrease of 0.3 to 0.4 on the Richter scale.\")\n",
    "elif 4.5 <= magnitude < 5:\n",
    "    print(\"This range represents the unlikely scenario where water injection drastically reduces pressure, leading to a theoretical decrease of 0.5 on the Richter scale.\")\n",
    "elif 4 <= magnitude < 4.5:\n",
    "    print(\"This range represents the unlikely scenario where water injection drastically reduces pressure, leading to a theoretical decrease of more than 0.5 on the Richter scale, potentially 0.6 or something.\")\n",
    "else:\n",
    "    print(\"This range represents the unlikely scenario where water injection drastically reduces pressure, leading to a theoretical decrease of more than 0.6 on the Richter scale, potentially 0.7 or something.\")"
   ]
  },
  {
   "cell_type": "code",
   "execution_count": null,
   "id": "c5ad9e35",
   "metadata": {},
   "outputs": [],
   "source": []
  }
 ],
 "metadata": {
  "kernelspec": {
   "display_name": "Python 3 (ipykernel)",
   "language": "python",
   "name": "python3"
  },
  "language_info": {
   "codemirror_mode": {
    "name": "ipython",
    "version": 3
   },
   "file_extension": ".py",
   "mimetype": "text/x-python",
   "name": "python",
   "nbconvert_exporter": "python",
   "pygments_lexer": "ipython3",
   "version": "3.9.17"
  }
 },
 "nbformat": 4,
 "nbformat_minor": 5
}
